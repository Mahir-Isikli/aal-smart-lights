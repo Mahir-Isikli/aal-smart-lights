{
  "cells": [
    {
      "cell_type": "markdown",
      "metadata": {
        "id": "HCwLeR-EQrXz"
      },
      "source": [
        "### Import Requirements"
      ]
    },
    {
      "cell_type": "code",
      "execution_count": 1,
      "metadata": {
        "id": "ra1zdSi8Qqk_"
      },
      "outputs": [],
      "source": [
        "import numpy as np\n",
        "import pandas as pd\n",
        "import cv2\n",
        "import mediapipe as mp\n",
        "import matplotlib.pyplot as plt\n",
        "import seaborn as sns\n",
        "from glob import glob\n",
        "from sklearn.preprocessing import MinMaxScaler, StandardScaler\n",
        "from sklearn.linear_model import LogisticRegression\n",
        "from sklearn.tree import DecisionTreeClassifier\n",
        "from sklearn.ensemble import RandomForestClassifier\n",
        "from sklearn.pipeline import Pipeline\n",
        "from sklearn.compose import ColumnTransformer\n",
        "from sklearn.model_selection import train_test_split\n",
        "from sklearn.model_selection import RandomizedSearchCV, GridSearchCV\n",
        "from sklearn.metrics import classification_report\n",
        "from lightgbm import LGBMClassifier"
      ]
    },
    {
      "cell_type": "markdown",
      "metadata": {
        "id": "L7U8yD3_XsZE"
      },
      "source": [
        "### Pose Estimation Model and Transformation Functions"
      ]
    },
    {
      "cell_type": "code",
      "execution_count": 3,
      "metadata": {
        "id": "FHaoRDq7XDSt"
      },
      "outputs": [],
      "source": [
        "mp_drawing = mp.solutions.drawing_utils\n",
        "mp_pose = mp.solutions.pose\n",
        "\n",
        "def estimate_pose(image):\n",
        "    # Setup mediapipe instance\n",
        "    pose = mp_pose.Pose(min_detection_confidence=0.5, min_tracking_confidence=0.5)\n",
        "\n",
        "    # Recolor image to RGB\n",
        "    image = cv2.cvtColor(image, cv2.COLOR_BGR2RGB)\n",
        "    image.flags.writeable = False\n",
        "\n",
        "    # Make detection\n",
        "    results = pose.process(image)\n",
        "\n",
        "    # # Recolor back to BGR\n",
        "    # image.flags.writeable = True\n",
        "    # image = cv2.cvtColor(image, cv2.COLOR_RGB2BGR)\n",
        "\n",
        "    # # Render detections\n",
        "    # mp_drawing.draw_landmarks(image, results.pose_landmarks, mp_pose.POSE_CONNECTIONS,\n",
        "    #                             mp_drawing.DrawingSpec(\n",
        "    #                                 color=(245, 117, 66), thickness=2, circle_radius=2),\n",
        "    #                             mp_drawing.DrawingSpec(\n",
        "    #                                 color=(245, 66, 230), thickness=2, circle_radius=2)\n",
        "    #                             )\n",
        "    # # Return output\n",
        "    # cv2.imwrite('output.png', image)\n",
        "    try:\n",
        "        return results.pose_landmarks.landmark\n",
        "    except AttributeError:\n",
        "        return None\n",
        "\n",
        "\n",
        "def calculate_angle(first, mid, end):\n",
        "    first = np.array(first) \n",
        "    mid = np.array(mid)  # Mid\n",
        "    end = np.array(end)  # End\n",
        "\n",
        "    radians = np.arctan2(end[1]-mid[1], end[0]-mid[0]) - \\\n",
        "        np.arctan2(first[1]-mid[1], first[0]-mid[0])\n",
        "    angle = np.abs(radians*180.0/np.pi)\n",
        "\n",
        "    if angle > 180.0:\n",
        "        angle = 360-angle\n",
        "\n",
        "    return angle\n",
        "\n",
        "def calculate_all_angles(landmarks):\n",
        "    angle_map = {\n",
        "        'SHOULDER': ['ELBOW', 'SHOULDER', 'HIP'],\n",
        "        'ELBOW': ['SHOULDER', 'ELBOW', 'WRIST'],\n",
        "        'HIP': ['KNEE', 'HIP', 'SHOULDER'],\n",
        "        'KNEE': ['HIP', 'KNEE', 'ANKLE'],\n",
        "        'ANKLE': ['KNEE', 'ANKLE', 'PINKY']\n",
        "    }\n",
        "    \n",
        "    angles = {}\n",
        "    for angle_name, landmark_points in angle_map.items():\n",
        "        for side in ['LEFT', 'RIGHT']:\n",
        "            # get landmark names\n",
        "            landmark_names = []\n",
        "            for point in landmark_points:\n",
        "                landmark_names.append(side+'_'+point)\n",
        "            # calculate angle\n",
        "            first = [landmarks[getattr(mp_pose.PoseLandmark, landmark_names[0]).value].x,\n",
        "                     landmarks[getattr(mp_pose.PoseLandmark, landmark_names[0]).value].y]\n",
        "            mid = [landmarks[getattr(mp_pose.PoseLandmark, landmark_names[1]).value].x,\n",
        "                   landmarks[getattr(mp_pose.PoseLandmark, landmark_names[1]).value].y]\n",
        "            end = [landmarks[getattr(mp_pose.PoseLandmark, landmark_names[2]).value].x,\n",
        "                   landmarks[getattr(mp_pose.PoseLandmark, landmark_names[2]).value].y]\n",
        "            angle = calculate_angle(first, mid, end)\n",
        "            angles[side+'_'+angle_name] = [angle]\n",
        "\n",
        "            # cv2.putText(image, str(angle),\n",
        "            #             tuple(np.multiply(mid, [640, 480]).astype(int)),\n",
        "            #             cv2.FONT_HERSHEY_SIMPLEX, 0.5, (255, 255, 255), 2, cv2.LINE_AA\n",
        "            #             )\n",
        "            # cv2.imwrite('output.png', image)\n",
        "    angles = pd.DataFrame(angles)\n",
        "    return angles\n",
        "\n",
        "def process_folder(folder_path):\n",
        "    data = pd.DataFrame()\n",
        "    # for each image in the folder\n",
        "    for img_path in glob(folder_path+'/*.jpg'):\n",
        "        # read image\n",
        "        image = cv2.imread(img_path)\n",
        "        # estimate pose landmarks\n",
        "        landmarks = estimate_pose(image)\n",
        "        if landmarks:\n",
        "            # calculate all angles\n",
        "            angles = calculate_all_angles(landmarks)\n",
        "            # append to data\n",
        "            data = pd.concat([data, angles])\n",
        "    return data"
      ]
    },
    {
      "cell_type": "markdown",
      "metadata": {
        "id": "4YQ2QP9jXzF8"
      },
      "source": [
        "### Feature Extraction Job for Activity Detection\n"
      ]
    },
    {
      "cell_type": "code",
      "execution_count": null,
      "metadata": {
        "id": "KyJSi4vKXWXd"
      },
      "outputs": [],
      "source": [
        "# sitting = process_folder('activity-detection-data/sitting')\n",
        "# sitting['label'] = 0\n",
        "# sitting.to_excel('./sitting.xlsx', index='False', engine='openpyxl')"
      ]
    },
    {
      "cell_type": "code",
      "execution_count": null,
      "metadata": {
        "id": "44OQBedzYAVT"
      },
      "outputs": [],
      "source": [
        "# standing = process_folder('activity-detection-data/standing')\n",
        "# standing['label'] = 1\n",
        "# standing.to_excel('./standing.xlsx', index='False', engine='openpyxl')"
      ]
    },
    {
      "cell_type": "markdown",
      "metadata": {
        "id": "ZaD5EWLII8eV"
      },
      "source": [
        "### Data Preperation"
      ]
    },
    {
      "cell_type": "code",
      "execution_count": null,
      "metadata": {
        "id": "G28vT9sZIr3M"
      },
      "outputs": [],
      "source": [
        "sitting = pd.read_excel('sitting.xlsx', engine='openpyxl').drop(columns='Unnamed: 0')\n",
        "standing = pd.read_excel('standing.xlsx', engine='openpyxl').drop(columns='Unnamed: 0')\n",
        "df_model = pd.concat([sitting, standing])\n",
        "\n",
        "# train/test split\n",
        "X_train, X_test, y_train, y_test = train_test_split(df_model.drop(columns='label'), df_model['label'], test_size=0.2, random_state=42)"
      ]
    },
    {
      "cell_type": "markdown",
      "metadata": {
        "id": "mdLNCr93dXBt"
      },
      "source": [
        "### Try the first model"
      ]
    },
    {
      "cell_type": "code",
      "execution_count": null,
      "metadata": {
        "id": "ms69p-5udut6"
      },
      "outputs": [],
      "source": [
        "model = LGBMClassifier()\n",
        "model.fit(X_train, y_train)\n",
        "y_pred = model.predict(X_test)"
      ]
    },
    {
      "cell_type": "code",
      "execution_count": null,
      "metadata": {
        "colab": {
          "base_uri": "https://localhost:8080/",
          "height": 175
        },
        "id": "N1KM0ynD57km",
        "outputId": "04f54e57-c48d-4af2-edcf-05cfc08c2459"
      },
      "outputs": [
        {
          "data": {
            "text/html": [
              "\n",
              "  <div id=\"df-55e2c907-b9e7-4ff1-96ca-bfd6c96fc9e2\">\n",
              "    <div class=\"colab-df-container\">\n",
              "      <div>\n",
              "<style scoped>\n",
              "    .dataframe tbody tr th:only-of-type {\n",
              "        vertical-align: middle;\n",
              "    }\n",
              "\n",
              "    .dataframe tbody tr th {\n",
              "        vertical-align: top;\n",
              "    }\n",
              "\n",
              "    .dataframe thead th {\n",
              "        text-align: right;\n",
              "    }\n",
              "</style>\n",
              "<table border=\"1\" class=\"dataframe\">\n",
              "  <thead>\n",
              "    <tr style=\"text-align: right;\">\n",
              "      <th></th>\n",
              "      <th>0</th>\n",
              "      <th>1</th>\n",
              "      <th>accuracy</th>\n",
              "      <th>macro avg</th>\n",
              "      <th>weighted avg</th>\n",
              "    </tr>\n",
              "  </thead>\n",
              "  <tbody>\n",
              "    <tr>\n",
              "      <th>precision</th>\n",
              "      <td>1.0</td>\n",
              "      <td>1.0</td>\n",
              "      <td>1.0</td>\n",
              "      <td>1.0</td>\n",
              "      <td>1.0</td>\n",
              "    </tr>\n",
              "    <tr>\n",
              "      <th>recall</th>\n",
              "      <td>1.0</td>\n",
              "      <td>1.0</td>\n",
              "      <td>1.0</td>\n",
              "      <td>1.0</td>\n",
              "      <td>1.0</td>\n",
              "    </tr>\n",
              "    <tr>\n",
              "      <th>f1-score</th>\n",
              "      <td>1.0</td>\n",
              "      <td>1.0</td>\n",
              "      <td>1.0</td>\n",
              "      <td>1.0</td>\n",
              "      <td>1.0</td>\n",
              "    </tr>\n",
              "    <tr>\n",
              "      <th>support</th>\n",
              "      <td>5.0</td>\n",
              "      <td>8.0</td>\n",
              "      <td>1.0</td>\n",
              "      <td>13.0</td>\n",
              "      <td>13.0</td>\n",
              "    </tr>\n",
              "  </tbody>\n",
              "</table>\n",
              "</div>\n",
              "      <button class=\"colab-df-convert\" onclick=\"convertToInteractive('df-55e2c907-b9e7-4ff1-96ca-bfd6c96fc9e2')\"\n",
              "              title=\"Convert this dataframe to an interactive table.\"\n",
              "              style=\"display:none;\">\n",
              "        \n",
              "  <svg xmlns=\"http://www.w3.org/2000/svg\" height=\"24px\"viewBox=\"0 0 24 24\"\n",
              "       width=\"24px\">\n",
              "    <path d=\"M0 0h24v24H0V0z\" fill=\"none\"/>\n",
              "    <path d=\"M18.56 5.44l.94 2.06.94-2.06 2.06-.94-2.06-.94-.94-2.06-.94 2.06-2.06.94zm-11 1L8.5 8.5l.94-2.06 2.06-.94-2.06-.94L8.5 2.5l-.94 2.06-2.06.94zm10 10l.94 2.06.94-2.06 2.06-.94-2.06-.94-.94-2.06-.94 2.06-2.06.94z\"/><path d=\"M17.41 7.96l-1.37-1.37c-.4-.4-.92-.59-1.43-.59-.52 0-1.04.2-1.43.59L10.3 9.45l-7.72 7.72c-.78.78-.78 2.05 0 2.83L4 21.41c.39.39.9.59 1.41.59.51 0 1.02-.2 1.41-.59l7.78-7.78 2.81-2.81c.8-.78.8-2.07 0-2.86zM5.41 20L4 18.59l7.72-7.72 1.47 1.35L5.41 20z\"/>\n",
              "  </svg>\n",
              "      </button>\n",
              "      \n",
              "  <style>\n",
              "    .colab-df-container {\n",
              "      display:flex;\n",
              "      flex-wrap:wrap;\n",
              "      gap: 12px;\n",
              "    }\n",
              "\n",
              "    .colab-df-convert {\n",
              "      background-color: #E8F0FE;\n",
              "      border: none;\n",
              "      border-radius: 50%;\n",
              "      cursor: pointer;\n",
              "      display: none;\n",
              "      fill: #1967D2;\n",
              "      height: 32px;\n",
              "      padding: 0 0 0 0;\n",
              "      width: 32px;\n",
              "    }\n",
              "\n",
              "    .colab-df-convert:hover {\n",
              "      background-color: #E2EBFA;\n",
              "      box-shadow: 0px 1px 2px rgba(60, 64, 67, 0.3), 0px 1px 3px 1px rgba(60, 64, 67, 0.15);\n",
              "      fill: #174EA6;\n",
              "    }\n",
              "\n",
              "    [theme=dark] .colab-df-convert {\n",
              "      background-color: #3B4455;\n",
              "      fill: #D2E3FC;\n",
              "    }\n",
              "\n",
              "    [theme=dark] .colab-df-convert:hover {\n",
              "      background-color: #434B5C;\n",
              "      box-shadow: 0px 1px 3px 1px rgba(0, 0, 0, 0.15);\n",
              "      filter: drop-shadow(0px 1px 2px rgba(0, 0, 0, 0.3));\n",
              "      fill: #FFFFFF;\n",
              "    }\n",
              "  </style>\n",
              "\n",
              "      <script>\n",
              "        const buttonEl =\n",
              "          document.querySelector('#df-55e2c907-b9e7-4ff1-96ca-bfd6c96fc9e2 button.colab-df-convert');\n",
              "        buttonEl.style.display =\n",
              "          google.colab.kernel.accessAllowed ? 'block' : 'none';\n",
              "\n",
              "        async function convertToInteractive(key) {\n",
              "          const element = document.querySelector('#df-55e2c907-b9e7-4ff1-96ca-bfd6c96fc9e2');\n",
              "          const dataTable =\n",
              "            await google.colab.kernel.invokeFunction('convertToInteractive',\n",
              "                                                     [key], {});\n",
              "          if (!dataTable) return;\n",
              "\n",
              "          const docLinkHtml = 'Like what you see? Visit the ' +\n",
              "            '<a target=\"_blank\" href=https://colab.research.google.com/notebooks/data_table.ipynb>data table notebook</a>'\n",
              "            + ' to learn more about interactive tables.';\n",
              "          element.innerHTML = '';\n",
              "          dataTable['output_type'] = 'display_data';\n",
              "          await google.colab.output.renderOutput(dataTable, element);\n",
              "          const docLink = document.createElement('div');\n",
              "          docLink.innerHTML = docLinkHtml;\n",
              "          element.appendChild(docLink);\n",
              "        }\n",
              "      </script>\n",
              "    </div>\n",
              "  </div>\n",
              "  "
            ],
            "text/plain": [
              "             0    1  accuracy  macro avg  weighted avg\n",
              "precision  1.0  1.0       1.0        1.0           1.0\n",
              "recall     1.0  1.0       1.0        1.0           1.0\n",
              "f1-score   1.0  1.0       1.0        1.0           1.0\n",
              "support    5.0  8.0       1.0       13.0          13.0"
            ]
          },
          "execution_count": 223,
          "metadata": {},
          "output_type": "execute_result"
        }
      ],
      "source": [
        "pd.DataFrame(classification_report(y_test, y_pred, output_dict=True))"
      ]
    },
    {
      "cell_type": "markdown",
      "metadata": {
        "id": "Zp-8g5MH6aWJ"
      },
      "source": [
        "### Model Selection"
      ]
    },
    {
      "cell_type": "code",
      "execution_count": null,
      "metadata": {
        "colab": {
          "base_uri": "https://localhost:8080/"
        },
        "id": "mPzZb-orUizQ",
        "outputId": "a51d3852-d51b-4d59-edba-777dcbdd3201"
      },
      "outputs": [
        {
          "name": "stdout",
          "output_type": "stream",
          "text": [
            "Best Estimator: Pipeline(steps=[('scaler', MinMaxScaler()),\n",
            "                ('classifier',\n",
            "                 LGBMClassifier(learning_rate=0.21000000000000002, max_depth=17,\n",
            "                                n_estimators=310, num_leaves=67))])\n",
            "Best Score: 0.5222222222222221\n"
          ]
        }
      ],
      "source": [
        "pipeline = Pipeline(steps=[(\"scaler\", MinMaxScaler()), (\"classifier\", LGBMClassifier())])\n",
        "\n",
        "params = [\n",
        "    {\n",
        "      'scaler': [StandardScaler(), MinMaxScaler()],\n",
        "      'classifier': [LogisticRegression()],\n",
        "      \"classifier__C\": [0.1, 1.0, 10.0, 100.0],\n",
        "    },\n",
        "    {\n",
        "      'scaler': [StandardScaler(), MinMaxScaler()],\n",
        "      'classifier': [RandomForestClassifier()],\n",
        "      'classifier__max_depth': np.arange(1, 22, 2),\n",
        "      'classifier__n_estimators': np.arange(10, 500, 50),\n",
        "    },\n",
        "    {\n",
        "      'scaler': [StandardScaler(), MinMaxScaler()],\n",
        "      'classifier': [LGBMClassifier()],\n",
        "      'classifier__max_depth': np.arange(1, 22, 2),\n",
        "      'classifier__num_leaves': np.arange(2, 103, 5),\n",
        "      'classifier__n_estimators': np.arange(10, 311, 50),\n",
        "      'classifier__learning_rate': np.arange(0.01, 1.502, 0.05)\n",
        "    },\n",
        "]\n",
        "\n",
        "search = RandomizedSearchCV(pipeline, params, n_iter=100, cv=5, random_state=42)\n",
        "search.fit(X_train, y_train)\n",
        "\n",
        "# search = RandomizedSearchCV(pipeline, params, n_iter=100, cv=10, random_state=42)\n",
        "# search.fit(X_train, y_train)\n",
        "\n",
        "print('Best Estimator:', search.best_estimator_)\n",
        "print('Best Score:', search.best_score_)"
      ]
    },
    {
      "cell_type": "code",
      "execution_count": null,
      "metadata": {
        "id": "C9hPrAbDE-FN"
      },
      "outputs": [],
      "source": [
        "results = pd.DataFrame(search.cv_results_)"
      ]
    },
    {
      "cell_type": "code",
      "execution_count": null,
      "metadata": {
        "colab": {
          "base_uri": "https://localhost:8080/",
          "height": 1000
        },
        "id": "iy-zdDcyE_89",
        "outputId": "673c05b2-412e-4692-a012-5576fb4675e5"
      },
      "outputs": [
        {
          "name": "stderr",
          "output_type": "stream",
          "text": [
            "/usr/local/lib/python3.7/dist-packages/seaborn/_decorators.py:43: FutureWarning: Pass the following variables as keyword args: x, y. From version 0.12, the only valid positional argument will be `data`, and passing other arguments without an explicit keyword will result in an error or misinterpretation.\n",
            "  FutureWarning\n"
          ]
        },
        {
          "data": {
            "image/png": "[encoded data removed]",
            "text/plain": [
              "<Figure size 864x504 with 1 Axes>"
            ]
          },
          "metadata": {},
          "output_type": "display_data"
        },
        {
          "name": "stderr",
          "output_type": "stream",
          "text": [
            "/usr/local/lib/python3.7/dist-packages/seaborn/_decorators.py:43: FutureWarning: Pass the following variables as keyword args: x, y. From version 0.12, the only valid positional argument will be `data`, and passing other arguments without an explicit keyword will result in an error or misinterpretation.\n",
            "  FutureWarning\n"
          ]
        },
        {
          "data": {
            "image/png": "[encoded data removed]",
            "text/plain": [
              "<Figure size 864x504 with 1 Axes>"
            ]
          },
          "metadata": {},
          "output_type": "display_data"
        },
        {
          "name": "stderr",
          "output_type": "stream",
          "text": [
            "/usr/local/lib/python3.7/dist-packages/seaborn/_decorators.py:43: FutureWarning: Pass the following variables as keyword args: x, y. From version 0.12, the only valid positional argument will be `data`, and passing other arguments without an explicit keyword will result in an error or misinterpretation.\n",
            "  FutureWarning\n"
          ]
        },
        {
          "data": {
            "image/png": "[encoded data removed]",
            "text/plain": [
              "<Figure size 864x504 with 1 Axes>"
            ]
          },
          "metadata": {},
          "output_type": "display_data"
        },
        {
          "name": "stderr",
          "output_type": "stream",
          "text": [
            "/usr/local/lib/python3.7/dist-packages/seaborn/_decorators.py:43: FutureWarning: Pass the following variables as keyword args: x, y. From version 0.12, the only valid positional argument will be `data`, and passing other arguments without an explicit keyword will result in an error or misinterpretation.\n",
            "  FutureWarning\n"
          ]
        },
        {
          "data": {
            "image/png": "[encoded data removed]",
            "text/plain": [
              "<Figure size 864x504 with 1 Axes>"
            ]
          },
          "metadata": {},
          "output_type": "display_data"
        }
      ],
      "source": [
        "results_ = results.loc[results['param_classifier'].apply(lambda x: type(x)==LGBMClassifier)]\n",
        "for col in results_.columns:\n",
        "  if 'param_classifier__' in col:\n",
        "    sns.set( rc = {'figure.figsize' : ( 12, 7 ), \n",
        "                  'axes.labelsize' : 12 })\n",
        "    plt.title(col.split('__')[1], size = 16)\n",
        "    g = sns.scatterplot(results_[col], results_['mean_test_score'])\n",
        "    g.set(ylim=(0.515, 0.525))\n",
        "    plt.show()"
      ]
    },
    {
      "cell_type": "code",
      "execution_count": null,
      "metadata": {
        "colab": {
          "base_uri": "https://localhost:8080/",
          "height": 175
        },
        "id": "5Ot4sS9_debH",
        "outputId": "31d7dff7-65a3-47f2-c3a8-a48a0d9476f6"
      },
      "outputs": [
        {
          "data": {
            "text/html": [
              "\n",
              "  <div id=\"df-7cdd83e3-de77-406f-8785-27665be8e551\">\n",
              "    <div class=\"colab-df-container\">\n",
              "      <div>\n",
              "<style scoped>\n",
              "    .dataframe tbody tr th:only-of-type {\n",
              "        vertical-align: middle;\n",
              "    }\n",
              "\n",
              "    .dataframe tbody tr th {\n",
              "        vertical-align: top;\n",
              "    }\n",
              "\n",
              "    .dataframe thead th {\n",
              "        text-align: right;\n",
              "    }\n",
              "</style>\n",
              "<table border=\"1\" class=\"dataframe\">\n",
              "  <thead>\n",
              "    <tr style=\"text-align: right;\">\n",
              "      <th></th>\n",
              "      <th>0</th>\n",
              "      <th>1</th>\n",
              "      <th>accuracy</th>\n",
              "      <th>macro avg</th>\n",
              "      <th>weighted avg</th>\n",
              "    </tr>\n",
              "  </thead>\n",
              "  <tbody>\n",
              "    <tr>\n",
              "      <th>precision</th>\n",
              "      <td>1.0</td>\n",
              "      <td>1.0</td>\n",
              "      <td>1.0</td>\n",
              "      <td>1.0</td>\n",
              "      <td>1.0</td>\n",
              "    </tr>\n",
              "    <tr>\n",
              "      <th>recall</th>\n",
              "      <td>1.0</td>\n",
              "      <td>1.0</td>\n",
              "      <td>1.0</td>\n",
              "      <td>1.0</td>\n",
              "      <td>1.0</td>\n",
              "    </tr>\n",
              "    <tr>\n",
              "      <th>f1-score</th>\n",
              "      <td>1.0</td>\n",
              "      <td>1.0</td>\n",
              "      <td>1.0</td>\n",
              "      <td>1.0</td>\n",
              "      <td>1.0</td>\n",
              "    </tr>\n",
              "    <tr>\n",
              "      <th>support</th>\n",
              "      <td>5.0</td>\n",
              "      <td>8.0</td>\n",
              "      <td>1.0</td>\n",
              "      <td>13.0</td>\n",
              "      <td>13.0</td>\n",
              "    </tr>\n",
              "  </tbody>\n",
              "</table>\n",
              "</div>\n",
              "      <button class=\"colab-df-convert\" onclick=\"convertToInteractive('df-7cdd83e3-de77-406f-8785-27665be8e551')\"\n",
              "              title=\"Convert this dataframe to an interactive table.\"\n",
              "              style=\"display:none;\">\n",
              "        \n",
              "  <svg xmlns=\"http://www.w3.org/2000/svg\" height=\"24px\"viewBox=\"0 0 24 24\"\n",
              "       width=\"24px\">\n",
              "    <path d=\"M0 0h24v24H0V0z\" fill=\"none\"/>\n",
              "    <path d=\"M18.56 5.44l.94 2.06.94-2.06 2.06-.94-2.06-.94-.94-2.06-.94 2.06-2.06.94zm-11 1L8.5 8.5l.94-2.06 2.06-.94-2.06-.94L8.5 2.5l-.94 2.06-2.06.94zm10 10l.94 2.06.94-2.06 2.06-.94-2.06-.94-.94-2.06-.94 2.06-2.06.94z\"/><path d=\"M17.41 7.96l-1.37-1.37c-.4-.4-.92-.59-1.43-.59-.52 0-1.04.2-1.43.59L10.3 9.45l-7.72 7.72c-.78.78-.78 2.05 0 2.83L4 21.41c.39.39.9.59 1.41.59.51 0 1.02-.2 1.41-.59l7.78-7.78 2.81-2.81c.8-.78.8-2.07 0-2.86zM5.41 20L4 18.59l7.72-7.72 1.47 1.35L5.41 20z\"/>\n",
              "  </svg>\n",
              "      </button>\n",
              "      \n",
              "  <style>\n",
              "    .colab-df-container {\n",
              "      display:flex;\n",
              "      flex-wrap:wrap;\n",
              "      gap: 12px;\n",
              "    }\n",
              "\n",
              "    .colab-df-convert {\n",
              "      background-color: #E8F0FE;\n",
              "      border: none;\n",
              "      border-radius: 50%;\n",
              "      cursor: pointer;\n",
              "      display: none;\n",
              "      fill: #1967D2;\n",
              "      height: 32px;\n",
              "      padding: 0 0 0 0;\n",
              "      width: 32px;\n",
              "    }\n",
              "\n",
              "    .colab-df-convert:hover {\n",
              "      background-color: #E2EBFA;\n",
              "      box-shadow: 0px 1px 2px rgba(60, 64, 67, 0.3), 0px 1px 3px 1px rgba(60, 64, 67, 0.15);\n",
              "      fill: #174EA6;\n",
              "    }\n",
              "\n",
              "    [theme=dark] .colab-df-convert {\n",
              "      background-color: #3B4455;\n",
              "      fill: #D2E3FC;\n",
              "    }\n",
              "\n",
              "    [theme=dark] .colab-df-convert:hover {\n",
              "      background-color: #434B5C;\n",
              "      box-shadow: 0px 1px 3px 1px rgba(0, 0, 0, 0.15);\n",
              "      filter: drop-shadow(0px 1px 2px rgba(0, 0, 0, 0.3));\n",
              "      fill: #FFFFFF;\n",
              "    }\n",
              "  </style>\n",
              "\n",
              "      <script>\n",
              "        const buttonEl =\n",
              "          document.querySelector('#df-7cdd83e3-de77-406f-8785-27665be8e551 button.colab-df-convert');\n",
              "        buttonEl.style.display =\n",
              "          google.colab.kernel.accessAllowed ? 'block' : 'none';\n",
              "\n",
              "        async function convertToInteractive(key) {\n",
              "          const element = document.querySelector('#df-7cdd83e3-de77-406f-8785-27665be8e551');\n",
              "          const dataTable =\n",
              "            await google.colab.kernel.invokeFunction('convertToInteractive',\n",
              "                                                     [key], {});\n",
              "          if (!dataTable) return;\n",
              "\n",
              "          const docLinkHtml = 'Like what you see? Visit the ' +\n",
              "            '<a target=\"_blank\" href=https://colab.research.google.com/notebooks/data_table.ipynb>data table notebook</a>'\n",
              "            + ' to learn more about interactive tables.';\n",
              "          element.innerHTML = '';\n",
              "          dataTable['output_type'] = 'display_data';\n",
              "          await google.colab.output.renderOutput(dataTable, element);\n",
              "          const docLink = document.createElement('div');\n",
              "          docLink.innerHTML = docLinkHtml;\n",
              "          element.appendChild(docLink);\n",
              "        }\n",
              "      </script>\n",
              "    </div>\n",
              "  </div>\n",
              "  "
            ],
            "text/plain": [
              "             0    1  accuracy  macro avg  weighted avg\n",
              "precision  1.0  1.0       1.0        1.0           1.0\n",
              "recall     1.0  1.0       1.0        1.0           1.0\n",
              "f1-score   1.0  1.0       1.0        1.0           1.0\n",
              "support    5.0  8.0       1.0       13.0          13.0"
            ]
          },
          "execution_count": 352,
          "metadata": {},
          "output_type": "execute_result"
        }
      ],
      "source": [
        "pd.DataFrame(classification_report(y_test, y_pred>0.5, output_dict=True))"
      ]
    },
    {
      "cell_type": "markdown",
      "metadata": {},
      "source": [
        "### Visualization of Activity Detection"
      ]
    },
    {
      "cell_type": "code",
      "execution_count": null,
      "metadata": {},
      "outputs": [],
      "source": [
        "model_pipe = search.best_estimator_"
      ]
    },
    {
      "cell_type": "code",
      "execution_count": null,
      "metadata": {},
      "outputs": [],
      "source": [
        "def draw_landmarks(img, landmarks):\n",
        "    mp_drawing.draw_landmarks(image, landmarks, mp_pose.POSE_CONNECTIONS,\n",
        "                            mp_drawing.DrawingSpec(\n",
        "                                color=(245, 117, 66), thickness=2, circle_radius=2),\n",
        "                            mp_drawing.DrawingSpec(\n",
        "                                color=(245, 66, 230), thickness=2, circle_radius=2)\n",
        "                            )\n",
        "\n",
        "def draw_text(img, text):   \n",
        "    font = cv2.FONT_HERSHEY_PLAIN\n",
        "    pos = (25, 25)\n",
        "    font_scale = 5\n",
        "    font_thickness = 2\n",
        "    text_color = (0, 255, 0)\n",
        "    text_color_bg = (0, 0, 0)\n",
        "\n",
        "    x, y = pos\n",
        "    text_size, _ = cv2.getTextSize(text, font, font_scale, font_thickness)\n",
        "    text_w, text_h = text_size\n",
        "    cv2.rectangle(img, (x,y-10), (x + text_w, y + text_h + 20), text_color_bg, -1)\n",
        "    cv2.putText(img, text, (x, y + text_h + font_scale - 1),\n",
        "                font, font_scale, text_color, font_thickness)\n",
        "\n",
        "    return text_size\n"
      ]
    },
    {
      "cell_type": "code",
      "execution_count": null,
      "metadata": {},
      "outputs": [],
      "source": [
        "# Read image\n",
        "image = cv2.imread('example.jpg')\n",
        "\n",
        "# Setup mediapipe instance\n",
        "pose = mp_pose.Pose(min_detection_confidence=0.5, min_tracking_confidence=0.5)\n",
        "\n",
        "# Recolor image to RGB\n",
        "image = cv2.cvtColor(image, cv2.COLOR_BGR2RGB)\n",
        "image.flags.writeable = False\n",
        "\n",
        "# Make detection\n",
        "results = pose.process(image)\n",
        "\n",
        "# Recolor back to BGR\n",
        "image.flags.writeable = True\n",
        "image = cv2.cvtColor(image, cv2.COLOR_RGB2BGR)\n",
        "\n",
        "# Draw landmarks\n",
        "draw_landmarks(image, results.pose_landmarks)\n",
        "\n",
        "# Write pose image\n",
        "cv2.imwrite('example-pose.jpg', image)\n",
        "\n",
        "X = calculate_all_angles(results.pose_landmarks.landmark)\n",
        "y = model_pipe.predict(X)\n",
        "activity = None\n",
        "if y == 0:\n",
        "    activity = 'Sitting'\n",
        "else:\n",
        "    activity = 'Standing'\n",
        "# Write the label\n",
        "draw_text(image, 'Sitting')\n",
        "\n",
        "# Write pose image\n",
        "cv2.imwrite('example-activity.jpg', image)"
      ]
    },
    {
      "cell_type": "markdown",
      "metadata": {
        "id": "l7BDOQsUQbm7"
      },
      "source": [
        "### For Later"
      ]
    },
    {
      "cell_type": "code",
      "execution_count": null,
      "metadata": {
        "id": "7qfqw0pdEPcG"
      },
      "outputs": [],
      "source": [
        "import tensorflow as tf\n",
        "from tensorflow import keras\n",
        "from tensorflow.keras import layers"
      ]
    },
    {
      "cell_type": "code",
      "execution_count": null,
      "metadata": {
        "id": "mc8nCOtbJuDo"
      },
      "outputs": [],
      "source": [
        "# Initialize the model\n",
        "model = keras.Sequential()\n",
        "# Add layers\n",
        "# model.add(layers.Dense(1, activation='softmax', input_dim=10))\n",
        "model.add(layers.Dense(5, activation='relu', input_dim=10))\n",
        "# model.add(layers.Dense(3, activation='softmax'))\n",
        "model.add(layers.Dense(1, activation='softmax'))\n",
        "\n",
        "# Compile the model\n",
        "model.compile(optimizer='adam', \n",
        "              loss='categorical_crossentropy', \n",
        "              metrics=['accuracy'])"
      ]
    },
    {
      "cell_type": "code",
      "execution_count": null,
      "metadata": {
        "colab": {
          "base_uri": "https://localhost:8080/"
        },
        "id": "b3WPZDOcKZPQ",
        "outputId": "78467db9-25f0-4a2c-f0e5-772d022ce3ea"
      },
      "outputs": [
        {
          "name": "stdout",
          "output_type": "stream",
          "text": [
            "2/2 [==============================] - 0s 8ms/step - loss: 0.0000e+00 - accuracy: 0.5208\n"
          ]
        }
      ],
      "source": [
        "# Fit the model\n",
        "model.fit(X_train, y_train)\n",
        "# Predict\n",
        "y_pred = model.predict(X_test)"
      ]
    },
    {
      "cell_type": "code",
      "execution_count": null,
      "metadata": {
        "colab": {
          "base_uri": "https://localhost:8080/",
          "height": 360
        },
        "id": "hY6CdHnfKsZq",
        "outputId": "856446db-3bfe-4b7a-c1e7-ca89db2d129a"
      },
      "outputs": [
        {
          "name": "stderr",
          "output_type": "stream",
          "text": [
            "/usr/local/lib/python3.7/dist-packages/sklearn/metrics/_classification.py:1318: UndefinedMetricWarning: Precision and F-score are ill-defined and being set to 0.0 in labels with no predicted samples. Use `zero_division` parameter to control this behavior.\n",
            "  _warn_prf(average, modifier, msg_start, len(result))\n",
            "/usr/local/lib/python3.7/dist-packages/sklearn/metrics/_classification.py:1318: UndefinedMetricWarning: Precision and F-score are ill-defined and being set to 0.0 in labels with no predicted samples. Use `zero_division` parameter to control this behavior.\n",
            "  _warn_prf(average, modifier, msg_start, len(result))\n",
            "/usr/local/lib/python3.7/dist-packages/sklearn/metrics/_classification.py:1318: UndefinedMetricWarning: Precision and F-score are ill-defined and being set to 0.0 in labels with no predicted samples. Use `zero_division` parameter to control this behavior.\n",
            "  _warn_prf(average, modifier, msg_start, len(result))\n"
          ]
        },
        {
          "data": {
            "text/html": [
              "\n",
              "  <div id=\"df-bb1d2f64-e341-4802-b73c-2ccb170f078b\">\n",
              "    <div class=\"colab-df-container\">\n",
              "      <div>\n",
              "<style scoped>\n",
              "    .dataframe tbody tr th:only-of-type {\n",
              "        vertical-align: middle;\n",
              "    }\n",
              "\n",
              "    .dataframe tbody tr th {\n",
              "        vertical-align: top;\n",
              "    }\n",
              "\n",
              "    .dataframe thead th {\n",
              "        text-align: right;\n",
              "    }\n",
              "</style>\n",
              "<table border=\"1\" class=\"dataframe\">\n",
              "  <thead>\n",
              "    <tr style=\"text-align: right;\">\n",
              "      <th></th>\n",
              "      <th>0</th>\n",
              "      <th>1</th>\n",
              "      <th>accuracy</th>\n",
              "      <th>macro avg</th>\n",
              "      <th>weighted avg</th>\n",
              "    </tr>\n",
              "  </thead>\n",
              "  <tbody>\n",
              "    <tr>\n",
              "      <th>precision</th>\n",
              "      <td>0.0</td>\n",
              "      <td>0.615385</td>\n",
              "      <td>0.615385</td>\n",
              "      <td>0.307692</td>\n",
              "      <td>0.378698</td>\n",
              "    </tr>\n",
              "    <tr>\n",
              "      <th>recall</th>\n",
              "      <td>0.0</td>\n",
              "      <td>1.000000</td>\n",
              "      <td>0.615385</td>\n",
              "      <td>0.500000</td>\n",
              "      <td>0.615385</td>\n",
              "    </tr>\n",
              "    <tr>\n",
              "      <th>f1-score</th>\n",
              "      <td>0.0</td>\n",
              "      <td>0.761905</td>\n",
              "      <td>0.615385</td>\n",
              "      <td>0.380952</td>\n",
              "      <td>0.468864</td>\n",
              "    </tr>\n",
              "    <tr>\n",
              "      <th>support</th>\n",
              "      <td>5.0</td>\n",
              "      <td>8.000000</td>\n",
              "      <td>0.615385</td>\n",
              "      <td>13.000000</td>\n",
              "      <td>13.000000</td>\n",
              "    </tr>\n",
              "  </tbody>\n",
              "</table>\n",
              "</div>\n",
              "      <button class=\"colab-df-convert\" onclick=\"convertToInteractive('df-bb1d2f64-e341-4802-b73c-2ccb170f078b')\"\n",
              "              title=\"Convert this dataframe to an interactive table.\"\n",
              "              style=\"display:none;\">\n",
              "        \n",
              "  <svg xmlns=\"http://www.w3.org/2000/svg\" height=\"24px\"viewBox=\"0 0 24 24\"\n",
              "       width=\"24px\">\n",
              "    <path d=\"M0 0h24v24H0V0z\" fill=\"none\"/>\n",
              "    <path d=\"M18.56 5.44l.94 2.06.94-2.06 2.06-.94-2.06-.94-.94-2.06-.94 2.06-2.06.94zm-11 1L8.5 8.5l.94-2.06 2.06-.94-2.06-.94L8.5 2.5l-.94 2.06-2.06.94zm10 10l.94 2.06.94-2.06 2.06-.94-2.06-.94-.94-2.06-.94 2.06-2.06.94z\"/><path d=\"M17.41 7.96l-1.37-1.37c-.4-.4-.92-.59-1.43-.59-.52 0-1.04.2-1.43.59L10.3 9.45l-7.72 7.72c-.78.78-.78 2.05 0 2.83L4 21.41c.39.39.9.59 1.41.59.51 0 1.02-.2 1.41-.59l7.78-7.78 2.81-2.81c.8-.78.8-2.07 0-2.86zM5.41 20L4 18.59l7.72-7.72 1.47 1.35L5.41 20z\"/>\n",
              "  </svg>\n",
              "      </button>\n",
              "      \n",
              "  <style>\n",
              "    .colab-df-container {\n",
              "      display:flex;\n",
              "      flex-wrap:wrap;\n",
              "      gap: 12px;\n",
              "    }\n",
              "\n",
              "    .colab-df-convert {\n",
              "      background-color: #E8F0FE;\n",
              "      border: none;\n",
              "      border-radius: 50%;\n",
              "      cursor: pointer;\n",
              "      display: none;\n",
              "      fill: #1967D2;\n",
              "      height: 32px;\n",
              "      padding: 0 0 0 0;\n",
              "      width: 32px;\n",
              "    }\n",
              "\n",
              "    .colab-df-convert:hover {\n",
              "      background-color: #E2EBFA;\n",
              "      box-shadow: 0px 1px 2px rgba(60, 64, 67, 0.3), 0px 1px 3px 1px rgba(60, 64, 67, 0.15);\n",
              "      fill: #174EA6;\n",
              "    }\n",
              "\n",
              "    [theme=dark] .colab-df-convert {\n",
              "      background-color: #3B4455;\n",
              "      fill: #D2E3FC;\n",
              "    }\n",
              "\n",
              "    [theme=dark] .colab-df-convert:hover {\n",
              "      background-color: #434B5C;\n",
              "      box-shadow: 0px 1px 3px 1px rgba(0, 0, 0, 0.15);\n",
              "      filter: drop-shadow(0px 1px 2px rgba(0, 0, 0, 0.3));\n",
              "      fill: #FFFFFF;\n",
              "    }\n",
              "  </style>\n",
              "\n",
              "      <script>\n",
              "        const buttonEl =\n",
              "          document.querySelector('#df-bb1d2f64-e341-4802-b73c-2ccb170f078b button.colab-df-convert');\n",
              "        buttonEl.style.display =\n",
              "          google.colab.kernel.accessAllowed ? 'block' : 'none';\n",
              "\n",
              "        async function convertToInteractive(key) {\n",
              "          const element = document.querySelector('#df-bb1d2f64-e341-4802-b73c-2ccb170f078b');\n",
              "          const dataTable =\n",
              "            await google.colab.kernel.invokeFunction('convertToInteractive',\n",
              "                                                     [key], {});\n",
              "          if (!dataTable) return;\n",
              "\n",
              "          const docLinkHtml = 'Like what you see? Visit the ' +\n",
              "            '<a target=\"_blank\" href=https://colab.research.google.com/notebooks/data_table.ipynb>data table notebook</a>'\n",
              "            + ' to learn more about interactive tables.';\n",
              "          element.innerHTML = '';\n",
              "          dataTable['output_type'] = 'display_data';\n",
              "          await google.colab.output.renderOutput(dataTable, element);\n",
              "          const docLink = document.createElement('div');\n",
              "          docLink.innerHTML = docLinkHtml;\n",
              "          element.appendChild(docLink);\n",
              "        }\n",
              "      </script>\n",
              "    </div>\n",
              "  </div>\n",
              "  "
            ],
            "text/plain": [
              "             0         1  accuracy  macro avg  weighted avg\n",
              "precision  0.0  0.615385  0.615385   0.307692      0.378698\n",
              "recall     0.0  1.000000  0.615385   0.500000      0.615385\n",
              "f1-score   0.0  0.761905  0.615385   0.380952      0.468864\n",
              "support    5.0  8.000000  0.615385  13.000000     13.000000"
            ]
          },
          "execution_count": 368,
          "metadata": {},
          "output_type": "execute_result"
        }
      ],
      "source": [
        "pd.DataFrame(classification_report(y_test, y_pred>0.5, output_dict=True))"
      ]
    },
    {
      "cell_type": "code",
      "execution_count": null,
      "metadata": {
        "id": "h-LzktjRMwDf"
      },
      "outputs": [],
      "source": []
    }
  ],
  "metadata": {
    "accelerator": "GPU",
    "colab": {
      "collapsed_sections": [
        "1Tsjw1wsXFDo",
        "L7U8yD3_XsZE",
        "mdLNCr93dXBt",
        "Zp-8g5MH6aWJ",
        "l7BDOQsUQbm7"
      ],
      "name": "activity_detection_smartlight.ipynb",
      "provenance": []
    },
    "interpreter": {
      "hash": "31f2aee4e71d21fbe5cf8b01ff0e069b9275f58929596ceb00d14d90e3e16cd6"
    },
    "kernelspec": {
      "display_name": "Python 3.8.10 64-bit",
      "language": "python",
      "name": "python3"
    },
    "language_info": {
      "codemirror_mode": {
        "name": "ipython",
        "version": 3
      },
      "file_extension": ".py",
      "mimetype": "text/x-python",
      "name": "python",
      "nbconvert_exporter": "python",
      "pygments_lexer": "ipython3",
      "version": "3.8.10"
    }
  },
  "nbformat": 4,
  "nbformat_minor": 0
}
